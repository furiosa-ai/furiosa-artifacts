{
 "cells": [
  {
   "cell_type": "markdown",
   "metadata": {},
   "source": [
    "# End-to-end example\n",
    "## Install Python package dependencies\n",
    "The repository `furiosa-models` depends on `furiosa-artifacts`. However, you do not need to install `furiosa-artifacts`, just need to install its internal dependencies.\n",
    "These dependencies are described in [this toml file](https://github.com/furiosa-ai/furiosa-artifacts/blob/main/pyproject.toml).\n",
    "We have prepared automated scripts to install dependencies for your convenience.\n",
    "\n",
    "Requirements: [tomlq](https://pypi.org/project/tomlq/), jq, curl"
   ]
  },
  {
   "cell_type": "code",
   "execution_count": null,
   "metadata": {
    "vscode": {
     "languageId": "shellscript"
    }
   },
   "outputs": [],
   "source": [
    "# Install tomlq\n",
    "!pip install tomlq"
   ]
  },
  {
   "cell_type": "code",
   "execution_count": null,
   "metadata": {
    "vscode": {
     "languageId": "shellscript"
    }
   },
   "outputs": [],
   "source": [
    "# Install required dependencies\n",
    "!curl https://raw.githubusercontent.com/furiosa-ai/furiosa-artifacts/main/pyproject.toml | tomlq '.project.dependencies[]' | xargs pip install"
   ]
  },
  {
   "cell_type": "markdown",
   "metadata": {},
   "source": [
    "## List up vision models in Furiosa Models"
   ]
  },
  {
   "cell_type": "code",
   "execution_count": null,
   "metadata": {},
   "outputs": [],
   "source": [
    "import furiosa.models.vision\n",
    "\n",
    "# Detailed information is available at https://github.com/furiosa-ai/furiosa-sdk/tree/main/python/furiosa-models\n",
    "print(dir(furiosa.models.vision))"
   ]
  },
  {
   "cell_type": "code",
   "execution_count": null,
   "metadata": {},
   "outputs": [],
   "source": [
    "from furiosa.registry import list as list_models\n",
    "from furiosa.common.thread import synchronous\n",
    "\n",
    "synchronous(list_models)(\"https://github.com/furiosa-ai/furiosa-artifacts:v0.0.2\")"
   ]
  },
  {
   "cell_type": "markdown",
   "metadata": {},
   "source": [
    "## Instantiate a model\n",
    "We will instantiate `MLCommonsResNet50` Model class in this section."
   ]
  },
  {
   "cell_type": "code",
   "execution_count": null,
   "metadata": {},
   "outputs": [],
   "source": [
    "from furiosa.common.thread import synchronous\n",
    "from furiosa.registry import Model\n",
    "from furiosa.models.vision import MLCommonsResNet50\n",
    "\n",
    "# We use a synchronous function here because Jupyter Notebook has a running loop internally.\n",
    "# In most use cases, you can just use the `asyncio.run` function.\n",
    "# Beware of the function signature difference!\n",
    "#\n",
    "# import asyncio\n",
    "# model: Model = asyncio.run(MLCommonsResNet50())\n",
    "model: Model = synchronous(MLCommonsResNet50)()\n",
    "print(model.name)\n",
    "print(model.metadata.description)\n",
    "print(model.model[:100])"
   ]
  },
  {
   "cell_type": "markdown",
   "metadata": {},
   "source": [
    "## Create a Furiosa SDK `session` with the model\n",
    "\n",
    "A `session` is an object for high-performance inference utilizing the FuriosaAI NPU devices. Refer to this [link](https://furiosa-ai.github.io/docs/latest/en/) for details about FuriosaAI SDK and SW stacks. The session requires model bytes data to run an inference task. As the `Model` class has a model field for the model binary data, pass it here."
   ]
  },
  {
   "cell_type": "code",
   "execution_count": null,
   "metadata": {},
   "outputs": [],
   "source": [
    "# from furiosa.runtime import session\n",
    "\n",
    "# sess = session.create(model.model)\n",
    "# sess.print_summary()\n",
    "# TODO: Make realistic input data, and run inference\n",
    "# sess.close()"
   ]
  }
 ],
 "metadata": {
  "interpreter": {
   "hash": "d8572694623fa44f4b711ff05acbb2a06dbbc8f99f2696d326269c3a57312ed4"
  },
  "kernelspec": {
   "display_name": "Python 3.7.9 ('venv': venv)",
   "language": "python",
   "name": "python3"
  },
  "language_info": {
   "codemirror_mode": {
    "name": "ipython",
    "version": 3
   },
   "file_extension": ".py",
   "mimetype": "text/x-python",
   "name": "python",
   "nbconvert_exporter": "python",
   "pygments_lexer": "ipython3",
   "version": "3.7.9"
  },
  "orig_nbformat": 4
 },
 "nbformat": 4,
 "nbformat_minor": 2
}
