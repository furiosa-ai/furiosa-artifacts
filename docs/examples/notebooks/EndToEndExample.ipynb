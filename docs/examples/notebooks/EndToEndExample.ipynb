{
 "cells": [
  {
   "cell_type": "markdown",
   "metadata": {},
   "source": [
    "# End-to-end example\n",
    "## Install Python package dependencies\n",
    "The repository `furiosa-models` depends on `furiosa-artifacts`. However, you do not need to install `furiosa-artifacts`, just need to install its internal dependencies.\n",
    "These dependencies are described in [this toml file](https://github.com/furiosa-ai/furiosa-artifacts/blob/main/pyproject.toml).\n",
    "We have prepared automated scripts to install dependencies for your convenience.\n",
    "\n",
    "Requirements: [jq](https://stedolan.github.io/jq/), [yq](https://kislyuk.github.io/yq/), and `curl`\n",
    "\n",
    "```bash\n",
    "curl https://raw.githubusercontent.com/furiosa-ai/furiosa-artifacts/main/pyproject.toml | tomlq -c '.project.dependencies[]' | xargs pip install\n",
    "```"
   ]
  },
  {
   "cell_type": "markdown",
   "metadata": {},
   "source": [
    "## List up vision models in furiosa-models"
   ]
  },
  {
   "cell_type": "code",
   "execution_count": 1,
   "metadata": {},
   "outputs": [
    {
     "name": "stderr",
     "output_type": "stream",
     "text": [
      "42688it [00:05, 7832.23it/s]         \n"
     ]
    },
    {
     "name": "stdout",
     "output_type": "stream",
     "text": [
      "['EfficientNetV2_S', 'MLCommonsResNet50', 'MLCommonsSSDMobileNet', 'MLCommonsSSDResNet34', '__all__', '__builtins__', '__cached__', '__doc__', '__file__', '__loader__', '__name__', '__package__', '__path__', '__spec__']\n"
     ]
    }
   ],
   "source": [
    "import furiosa.models.vision\n",
    "\n",
    "# Detailed information is available at https://github.com/furiosa-ai/furiosa-sdk/tree/main/python/furiosa-models\n",
    "print(dir(furiosa.models.vision))"
   ]
  },
  {
   "cell_type": "markdown",
   "metadata": {},
   "source": [
    "## Instantiate a model\n",
    "We will instantiate `MLCommonsResNet50` Model class in this section."
   ]
  },
  {
   "cell_type": "code",
   "execution_count": 2,
   "metadata": {},
   "outputs": [
    {
     "name": "stderr",
     "output_type": "stream",
     "text": [
      "42741it [00:04, 8872.21it/s]         \n"
     ]
    },
    {
     "name": "stdout",
     "output_type": "stream",
     "text": [
      "MLCommonsResNet50\n",
      "ResNet50 v1.5 model for MLCommons v1.1\n"
     ]
    }
   ],
   "source": [
    "from furiosa.common.thread import synchronous\n",
    "from furiosa.registry import Model\n",
    "from furiosa.models.vision import MLCommonsResNet50\n",
    "\n",
    "# We use synchronous function here because jupyter notebook has running loop internally.\n",
    "# In most use cases, you can just use `asyncio.run` function.\n",
    "# Beware of the function signature difference!\n",
    "#\n",
    "# import asyncio\n",
    "# model: Model = asyncio.run(MLCommonsResNet50())\n",
    "model: Model = synchronous(MLCommonsResNet50)()\n",
    "print(model.name)\n",
    "print(model.metadata.description)"
   ]
  },
  {
   "cell_type": "markdown",
   "metadata": {},
   "source": [
    "## Create a Furiosa SDK `session` with the model\n",
    "\n",
    "A `session` is an object for high-performance inference utilizing the FuriosaAI NPU devices. Refer to this [link](https://furiosa-ai.github.io/docs/latest/en/) for details about FuriosaAI SDK and SW stacks. The binary data needed to create a `session` is in `model.model`."
   ]
  },
  {
   "cell_type": "code",
   "execution_count": 3,
   "metadata": {},
   "outputs": [],
   "source": [
    "# from furiosa.runtime import session\n",
    "\n",
    "# sess = session.create(model.model)\n",
    "# sess.print_summary()\n",
    "# TODO: Make realistic input data, and run inference\n",
    "# sess.close()"
   ]
  }
 ],
 "metadata": {
  "interpreter": {
   "hash": "6813bfe057fe83f6f165153d39de82e0c60259d1d071157fc8e09fd84ece03b0"
  },
  "kernelspec": {
   "display_name": "Python 3.8.13 ('furiosa-arti-example')",
   "language": "python",
   "name": "python3"
  },
  "language_info": {
   "codemirror_mode": {
    "name": "ipython",
    "version": 3
   },
   "file_extension": ".py",
   "mimetype": "text/x-python",
   "name": "python",
   "nbconvert_exporter": "python",
   "pygments_lexer": "ipython3",
   "version": "3.8.13"
  },
  "orig_nbformat": 4
 },
 "nbformat": 4,
 "nbformat_minor": 2
}
