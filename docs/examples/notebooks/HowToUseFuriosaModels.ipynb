{
 "cells": [
  {
   "cell_type": "markdown",
   "metadata": {},
   "source": [
    "# How to use `furiosa-models`\n"
   ]
  },
  {
   "cell_type": "markdown",
   "metadata": {},
   "source": [
    "## Install python package requirements\n",
    "```bash\n",
    "pip install -r requirements.txt\n",
    "```\n",
    "Additionally, each model can have its own dependencies. These issues should be addressed by checking each model class definition or error message when importing."
   ]
  },
  {
   "cell_type": "markdown",
   "metadata": {},
   "source": [
    "### List up vision models in furiosa-models"
   ]
  },
  {
   "cell_type": "code",
   "execution_count": 1,
   "metadata": {},
   "outputs": [
    {
     "name": "stdout",
     "output_type": "stream",
     "text": [
      "['EfficientNetV2_S', 'MLCommonsResNet50', 'MLCommonsSSDMobileNet', 'MLCommonsSSDResNet34']\n"
     ]
    }
   ],
   "source": [
    "import furiosa.models.vision\n",
    "\n",
    "# Detailed information is at https://github.com/furiosa-ai/furiosa-sdk/tree/main/python/furiosa-models\n",
    "print(list(filter(lambda x: not x.startswith(\"__\"), \\\n",
    "    dir(furiosa.models.vision)))[:-2])"
   ]
  },
  {
   "cell_type": "markdown",
   "metadata": {},
   "source": [
    "### Instanciate a model\n",
    "We will instancate `MLCommonsResNet50` Model class in this section."
   ]
  },
  {
   "cell_type": "code",
   "execution_count": 2,
   "metadata": {},
   "outputs": [
    {
     "name": "stderr",
     "output_type": "stream",
     "text": [
      "42752it [00:04, 8674.89it/s]         \n"
     ]
    },
    {
     "name": "stdout",
     "output_type": "stream",
     "text": [
      "MLCommonsResNet50\n",
      "description='ResNet50 v1.5 model for MLCommons v1.1' publication=Publication(authors=None, title=None, publisher=None, date=None, url='https://arxiv.org/abs/1512.03385.pdf')\n"
     ]
    }
   ],
   "source": [
    "from furiosa.common.thread import synchronous\n",
    "from furiosa.registry import Model\n",
    "from furiosa.models.vision import MLCommonsResNet50\n",
    "\n",
    "model: Model = synchronous(MLCommonsResNet50)()\n",
    "print(model.name)\n",
    "print(model.metadata)"
   ]
  },
  {
   "cell_type": "markdown",
   "metadata": {},
   "source": [
    "### Making furiosa-sdk session with model\n",
    "The binary data needed to create a session is in `model.model`.\n",
    "A detailed description of furiosa sdk and session can be found [here](https://furiosa-ai.github.io/docs/latest/en/)"
   ]
  },
  {
   "cell_type": "code",
   "execution_count": null,
   "metadata": {},
   "outputs": [],
   "source": [
    "from furiosa.runtime import session\n",
    "sess=session.create(model.model)\n",
    "sess.print_summary()\n",
    "# Run inference here\n",
    "sess.close()"
   ]
  }
 ],
 "metadata": {
  "interpreter": {
   "hash": "6813bfe057fe83f6f165153d39de82e0c60259d1d071157fc8e09fd84ece03b0"
  },
  "kernelspec": {
   "display_name": "Python 3.8.13 ('furiosa-arti-example')",
   "language": "python",
   "name": "python3"
  },
  "language_info": {
   "codemirror_mode": {
    "name": "ipython",
    "version": 3
   },
   "file_extension": ".py",
   "mimetype": "text/x-python",
   "name": "python",
   "nbconvert_exporter": "python",
   "pygments_lexer": "ipython3",
   "version": "3.8.13"
  },
  "orig_nbformat": 4
 },
 "nbformat": 4,
 "nbformat_minor": 2
}
